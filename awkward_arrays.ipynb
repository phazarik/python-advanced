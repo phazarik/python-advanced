{
 "cells": [
  {
   "cell_type": "markdown",
   "id": "1ccc80d5",
   "metadata": {},
   "source": [
    "# Awkward arrays\n",
    "\n",
    "For particle physicists, the complex data structures are usually difficult to handle with regular python arrays (and dataframes). For example, what if you want to create arrays/dataframes that contain the muons from the collision events? If each row represents an event, what will be the shape of the dataframe?  Since an event may have any number of muons, the dataframe does not have a distinct shape. This is what I am talking about -\n",
    "<img src=\"images/ragged_array.png\" alt=\"\" width=\"300\" height=\"200\">\n",
    "As you can see, this data structure do not have a distinct shape like a numpy array or a pandas dataframe. An awkward array is a specialized data structure used in scientific computing that can handle irregular and nested data like this. You can find the official documentation <a href=\"https://awkward-array.org/doc/main/\">here</a>.\n",
    "\n",
    "> **NOTE :** The contents of the following exercise are taken from the HSF-India Training Event, which was organised by TIFR in May 2023. The instructor, Jim Pivarski is a computational physicist from Princeton. The original content can be found <a href=\"https://github.com/hsf-india-may2023/scientific-python/tree/main\">here</a>."
   ]
  },
  {
   "cell_type": "markdown",
   "id": "823514f5",
   "metadata": {},
   "source": [
    "# Higgs decay example\n",
    "In order to work with awkward arrays, let's pick something specific. In this example, I have a standard model process $H\\rightarrow ZZ \\rightarrow 4l$ in the `data` folder. The data is organised in various formats. I will use the parquet file, turn it into an awkward array and make plots and filter events.\n",
    "\n",
    "For reading this file, some additional packages like `pyarrow` and `fsspec` need to be installed. If you don't have the necessary packages, you can install them with pip (or any other package manager).\n",
    "\n",
    "```\n",
    "pip install awkward1\n",
    "pip install pyarrow\n",
    "pip install fsspec\n",
    "```\n",
    "\n",
    "I am using `awkward1` instead of `awkward`, which is the new version and is actively maintained and developed. The previous version has incompatibility issues with recent versions of `numpy`. Operationally they are identical. Now, let's import the modules for this exercise."
   ]
  },
  {
   "cell_type": "code",
   "execution_count": 1,
   "id": "7f81ca9a",
   "metadata": {},
   "outputs": [],
   "source": [
    "import awkward1 as ak\n",
    "import numpy as np\n",
    "import matplotlib as mpl\n",
    "import matplotlib.pyplot as plt\n",
    "import vector\n",
    "vector.register_awkward()"
   ]
  },
  {
   "cell_type": "markdown",
   "id": "17605908",
   "metadata": {},
   "source": [
    "Let's create the awkward array from the input dataset."
   ]
  },
  {
   "cell_type": "code",
   "execution_count": 2,
   "id": "9ef747f5",
   "metadata": {},
   "outputs": [],
   "source": [
    "events = ak.from_parquet(\"data/SMHiggsToZZTo4L.parquet\")"
   ]
  },
  {
   "cell_type": "markdown",
   "id": "227c267d",
   "metadata": {},
   "source": [
    "### Interpreting this awkward data in json-like format\n",
    "Each row in this awkward dataset represents one collision event. You can think of this whole thing as a list, where each entry is one event.\n",
    "```\n",
    "[\n",
    "    {run:1, event:1, electron:[...], muon:[...] ...},\n",
    "    {run:1, event:2, electron:[...], muon:[...] ...},\n",
    "]\n",
    "```\n",
    "Each event is a dictionary containing key-value pairs. That means, for the first element/event in this list (say),\n",
    "- if you access the 'run' key, it will give you the corresponding value, which is 1.\n",
    "- if you access 'electron', it will give you a list of electrons, where each entry is a dictionary of electron properties.\n",
    "\n",
    "### Data structure of a single event\n",
    "Let's print out the first event and see how it looks like."
   ]
  },
  {
   "cell_type": "code",
   "execution_count": 3,
   "id": "33b13e13",
   "metadata": {},
   "outputs": [
    {
     "data": {
      "text/plain": [
       "{'run': 1,\n",
       " 'luminosityBlock': 156,\n",
       " 'event': 46501,\n",
       " 'PV': {'x': 0.24369880557060242,\n",
       "  'y': 0.3936990201473236,\n",
       "  'z': 1.451307773590088},\n",
       " 'electron': [],\n",
       " 'muon': [{'pt': 63.04386901855469,\n",
       "   'eta': -0.7186822295188904,\n",
       "   'phi': 2.968005895614624,\n",
       "   'mass': 0.10565836727619171,\n",
       "   'charge': 1,\n",
       "   'pfRelIso03_all': 0.0,\n",
       "   'pfRelIso04_all': 0.0,\n",
       "   'dxy': -0.004785160068422556,\n",
       "   'dxyErr': 0.0060764215886592865,\n",
       "   'dz': 0.09005985409021378,\n",
       "   'dzErr': 0.044572051614522934},\n",
       "  {'pt': 38.12034606933594,\n",
       "   'eta': -0.8794569969177246,\n",
       "   'phi': -1.0324749946594238,\n",
       "   'mass': 0.10565836727619171,\n",
       "   'charge': -1,\n",
       "   'pfRelIso03_all': 0.0,\n",
       "   'pfRelIso04_all': 0.0,\n",
       "   'dxy': 0.0005746808601543307,\n",
       "   'dxyErr': 0.0013040687190368772,\n",
       "   'dz': -0.0032290113158524036,\n",
       "   'dzErr': 0.003023269586265087},\n",
       "  {'pt': 4.04868745803833,\n",
       "   'eta': -0.320764422416687,\n",
       "   'phi': 1.0385035276412964,\n",
       "   'mass': 0.10565836727619171,\n",
       "   'charge': 1,\n",
       "   'pfRelIso03_all': 0.0,\n",
       "   'pfRelIso04_all': 0.17997965216636658,\n",
       "   'dxy': -0.00232272082939744,\n",
       "   'dxyErr': 0.004343290813267231,\n",
       "   'dz': -0.005162843037396669,\n",
       "   'dzErr': 0.004190043080598116}],\n",
       " 'MET': {'pt': 21.929929733276367, 'phi': -2.7301223278045654}}"
      ]
     },
     "execution_count": 3,
     "metadata": {},
     "output_type": "execute_result"
    }
   ],
   "source": [
    "events[0].to_list()"
   ]
  },
  {
   "cell_type": "markdown",
   "id": "dbe4976e",
   "metadata": {},
   "source": [
    "**What does it mean?**\n",
    "\n",
    "The whole event is a dictionary containing numbers and lists.\n",
    "- 'run', 'luminosityBlock' and 'event' are simple numbers.\n",
    "- 'electron' is an empty list.\n",
    "- The muon list contains 3 items, each is a dictionary carrying muon properties.\n",
    "- The muon list seems to be sorted (descending) according to pT. <br>(This is how the input file was generated.)\n",
    "- The charges of the muons are : 1, -1 and 1.\n",
    "- MET is a dictionary carrying pT and phi. <br>(Can you guess why it's not a list of dictionaries?)\n",
    "- PV is also a dictionary carrying the x, y, z coordinates.\n",
    "\n",
    "**This is a 3mu1e event.**\n",
    "\n",
    "This is the beauty of awkward arrays!<br>The next event may contain a different number of electrons and muons. It will only affect the length of the electron/muon lists. It may not be a nice list with a fixed shape, but the organizational strauture is fixed. Once you understand the structure, you can work with any electrons/muons from any event."
   ]
  },
  {
   "cell_type": "markdown",
   "id": "e929d5d6",
   "metadata": {},
   "source": [
    "### Plotting a variable : pT of all electrons\n",
    "Let's pick all the electrons from all the events and make a pT plot.\n",
    "The variable we are interested is simply - `events.electron.pt`. It is of the type : `awkward.highlevel.Array` and has the following structure.\n",
    "```\n",
    "[\n",
    "    [],\n",
    "    [21.9, 42.6, 78, 23.8],\n",
    "    [11.6, 6.69],\n",
    "    [10.4],\n",
    "    ......\n",
    "]\n",
    "----------------------------\n",
    "type: 299973 * var * float32\n",
    "```\n",
    "This means,\n",
    "- It is a list of 299973 objects, each of which represents one event. <br>(There are 299973 events in total).\n",
    "- Each entry is again a list of electron pTs.\n",
    "- The first entry is an empty list, because the first event did not have any electrons.\n",
    "- The second entry is a list of 4 numbers, corresponding to the pT of the 4 electrons in the second event. <br><br>... and so on.\n",
    "\n",
    "Remeber that 'events' is a list of dictionaries. So, `events.electron` is picking the list of dictionaries corresponding to the 'electron' key in events. Then, `events.electron.pt` is picking all the 'pt' values from the electron dictionaries. This is how you end up with a very complicated *lists-within-lists* structure as shown above. However, in order to plot it as a histogram, we need a list of numbers without structure. That's why we have to `ak.flatten` it."
   ]
  },
  {
   "cell_type": "code",
   "execution_count": 4,
   "id": "7a38a45b",
   "metadata": {},
   "outputs": [
    {
     "name": "stdout",
     "output_type": "stream",
     "text": [
      "<class 'awkward.highlevel.Array'>\n",
      "[21.9, 42.6, 78, 23.8, 11.6, 6.69, 10.4, ..., 48, 12.3, 17.9, 23.2, 48.1, 38.7]\n"
     ]
    }
   ],
   "source": [
    "all_electron_pt = ak.flatten(events.electron.pt)\n",
    "print(type(all_electron_pt))\n",
    "print(all_electron_pt)"
   ]
  },
  {
   "cell_type": "markdown",
   "id": "b28cc231",
   "metadata": {},
   "source": [
    "Good! Now we can make a simple histogram."
   ]
  },
  {
   "cell_type": "code",
   "execution_count": 5,
   "id": "34dbc284",
   "metadata": {},
   "outputs": [
    {
     "data": {
      "image/png": "[encoded data removed]",
      "text/plain": [
       "<Figure size 400x300 with 1 Axes>"
      ]
     },
     "metadata": {},
     "output_type": "display_data"
    }
   ],
   "source": [
    "fig1, ax1 = plt.subplots(1,1,figsize=(4,3))\n",
    "ax1.hist(all_electron_pt, bins=50, histtype='step', linewidth=2, color='blue', label='electron pT')\n",
    "ax1.set_xlabel('pT')\n",
    "ax1.set_ylabel('Counts')\n",
    "ax1.legend(loc='upper right')\n",
    "ax1.set_title('')\n",
    "plt.show()"
   ]
  },
  {
   "cell_type": "markdown",
   "id": "0c81bffc",
   "metadata": {},
   "source": [
    "By taking the given variables in the dataset, we can also caclculate complicated varibales. For example, in order to compute $p_z = p_T\\sinh\\eta$, we can simpy do the following.\n",
    "```\n",
    "all_electron_pz = events.electron.pt * np.sinh(events.electron.eta)\n",
    "```\n",
    "Let's look at some basic operations that we can do on awkward arrays.\n",
    "\n",
    "# Basic operations of Awkward Array\n",
    "\n",
    "Let's pick a simpler dataset for this. The following is a list of lists. Each inner list contains dictionaries with keys 'x' and 'y'. 'x' corresponds to simple numbers, 'y' corresponds to lists of numbers."
   ]
  },
  {
   "cell_type": "code",
   "execution_count": 6,
   "id": "d105d768",
   "metadata": {},
   "outputs": [],
   "source": [
    "array=[\n",
    "    [\n",
    "        {\"x\": 1.1, \"y\": [1]},\n",
    "        {\"x\": 2.2, \"y\": [1, 2]}\n",
    "    ],\n",
    "    [\n",
    "        \n",
    "    ],\n",
    "    [\n",
    "        {\"x\": 3.3, \"y\": [1, 2, 3]}\n",
    "    ]\n",
    "]"
   ]
  },
  {
   "cell_type": "markdown",
   "id": "6c7ad061",
   "metadata": {},
   "source": [
    "'array[0]' gives the first element of 'array', which is a list containing two dictionaries."
   ]
  },
  {
   "cell_type": "code",
   "execution_count": 7,
   "id": "ca7342c5",
   "metadata": {},
   "outputs": [
    {
     "data": {
      "text/plain": [
       "[{'x': 1.1, 'y': [1]}, {'x': 2.2, 'y': [1, 2]}]"
      ]
     },
     "execution_count": 7,
     "metadata": {},
     "output_type": "execute_result"
    }
   ],
   "source": [
    "array[0]"
   ]
  },
  {
   "cell_type": "markdown",
   "id": "e7d05046",
   "metadata": {},
   "source": [
    "Similarly, `array[0][0]` will give the first dictionary in this list, and `array[0][0][\"x\"]` will give the value for 'x' in that dictionary."
   ]
  },
  {
   "cell_type": "code",
   "execution_count": 8,
   "id": "a2650bb0",
   "metadata": {},
   "outputs": [
    {
     "data": {
      "text/plain": [
       "1.1"
      ]
     },
     "execution_count": 8,
     "metadata": {},
     "output_type": "execute_result"
    }
   ],
   "source": [
    "array[0][0]['x']"
   ]
  },
  {
   "cell_type": "markdown",
   "id": "39ab722f",
   "metadata": {},
   "source": [
    "Note that, this array is not like a regular 3x3 array of numbers. You can't define a definite shape. Awkward operations let you do complicated mathematical operations that apply to lists of variable length, including zero length. Let's create an awkward array from this array, and try to do some simple calculations."
   ]
  },
  {
   "cell_type": "code",
   "execution_count": 9,
   "id": "0b0b1e63",
   "metadata": {},
   "outputs": [
    {
     "name": "stdout",
     "output_type": "stream",
     "text": [
      "The zero-th element:\t\t\t\t\t [{x: 1.1, y: [1]}, {x: 2.2, y: [1, 2]}]\n",
      "All the \"y\"s from the zero-th element:\t\t\t [[1], [1, 2]]\n",
      "All the last entries in \"y\"s from the zero-th element:\t [1, 2]\n",
      "Sum of all the \"x\" in the array :\t\t\t 6.6\n",
      "Sum of all the \"y\" elements (in the same dict):\t\t [[1, 3], [], [6]]\n"
     ]
    }
   ],
   "source": [
    "awkarr = ak.from_iter(array)\n",
    "print(f'The zero-th element:\\t\\t\\t\\t\\t {awkarr[0]}')\n",
    "print(f'All the \"y\"s from the zero-th element:\\t\\t\\t {awkarr[0, \"y\"]}')\n",
    "print(f'All the last entries in \"y\"s from the zero-th element:\\t {awkarr[0, \"y\", -1]}')\n",
    "print(f'Sum of all the \"x\" in the array :\\t\\t\\t {ak.sum(awkarr[\"x\"])}')\n",
    "print(f'Sum of all the \"y\" elements (in the same dict):\\t\\t {ak.sum(awkarr[\"y\"], axis=-1)}')"
   ]
  },
  {
   "cell_type": "markdown",
   "id": "4d804ea9",
   "metadata": {},
   "source": [
    "Some of these features are very similar to NumPy. The `axis` parameter has the same meaning as in NumPy, but it is extended to work with non-rectilinear data. Slicing of such complicated arrays can be done with booleans. For example,"
   ]
  },
  {
   "cell_type": "code",
   "execution_count": 10,
   "id": "0dfa0194",
   "metadata": {},
   "outputs": [
    {
     "name": "stdout",
     "output_type": "stream",
     "text": [
      "Only the last element of awkarray is shown: [[{x: 3.3, y: [1, 2, 3]}]]\n",
      "Only the \"y\" elements: \t\t\t    [[[1], [1, 2]], [], [[1, 2, 3]]]\n",
      "Only the selected entries in \"y\" elements:  [[[1], [2]], [], [[2]]]\n"
     ]
    }
   ],
   "source": [
    "print(f'Only the last element of awkarray is shown: {awkarr[[False, False, True]]}')\n",
    "print(f'Only the \"y\" elements: \\t\\t\\t    {awkarr.y}')\n",
    "print(f'Only the selected entries in \"y\" elements:  {awkarr.y[ [[[True], [False, True]], [], [[False, True, False]]] ]}')"
   ]
  },
  {
   "cell_type": "markdown",
   "id": "8207a7cc",
   "metadata": {},
   "source": [
    "This **boolean-filtering** is going to be extremely useful for us.<br>\n",
    "Let's try another example where there are some missing variables, and `None` types."
   ]
  },
  {
   "cell_type": "code",
   "execution_count": 11,
   "id": "cafc18c7",
   "metadata": {},
   "outputs": [],
   "source": [
    "array2 = ak.from_iter([[   1,    2,    4],\n",
    "                       [                ],\n",
    "                       [None,    8      ],\n",
    "                       [  16            ]])"
   ]
  },
  {
   "cell_type": "code",
   "execution_count": 12,
   "id": "c0b5c30c",
   "metadata": {},
   "outputs": [
    {
     "name": "stdout",
     "output_type": "stream",
     "text": [
      "Sum along axis-0 (vertically)   : [17, 10, 4]\n",
      "Sum along axis-1 (horizontally) : [7, 0, 8, 16]\n"
     ]
    }
   ],
   "source": [
    "print(f'Sum along axis-0 (vertically)   : {ak.sum(array2, axis=0)}')\n",
    "print(f'Sum along axis-1 (horizontally) : {ak.sum(array2, axis=1)}')"
   ]
  },
  {
   "cell_type": "markdown",
   "id": "c323c0fe",
   "metadata": {},
   "source": [
    "Python is really smart. You don't have to worry about data types as much as in C++.\n",
    "\n",
    "# Filtering using booleans\n",
    "\n",
    "Coming back to our physics example, we can filter events in a very simple way. Suppose we want all events containing MET>20. Now, for each event, we can have an array of booleans defined by `events.MET.pt > 20`. The following block shows how the array of MET and the array of booleans look like."
   ]
  },
  {
   "cell_type": "code",
   "execution_count": 13,
   "id": "be56c92b",
   "metadata": {},
   "outputs": [
    {
     "name": "stdout",
     "output_type": "stream",
     "text": [
      "List of MET pt in each event : \t   [21.9, 17, 19.1, 30.9, 14.4, 11.5, 6.33, ..., 19.5, 33, 18.3, 17.7, 24, 12.9]\n",
      "List of booleans for MET pt > 20 : [True, False, False, True, False, False, ..., True, False, False, True, False]\n"
     ]
    }
   ],
   "source": [
    "print(f'List of MET pt in each event : \\t   {events.MET.pt}')\n",
    "print(f'List of booleans for MET pt > 20 : {events.MET.pt > 20}')"
   ]
  },
  {
   "cell_type": "markdown",
   "id": "66a72930",
   "metadata": {},
   "source": [
    "Each array contains 299973 entries (you can check it by printing `len(events.MET.pt)`); one entry for each event. We only want to keep those events that correspond to 'True' in the boolean array. We can use the syntax for boolean filtering, as we learned previously. Let's apply this and see how many events are filetered out. This filtering is analogous to pandas dataframes."
   ]
  },
  {
   "cell_type": "code",
   "execution_count": 14,
   "id": "a15042cc",
   "metadata": {},
   "outputs": [
    {
     "name": "stdout",
     "output_type": "stream",
     "text": [
      "No. of events before the MET cut : 299973\n",
      "No. of events after the MET cut :  163222\n"
     ]
    }
   ],
   "source": [
    "print(f'No. of events before the MET cut : {len(events)}')\n",
    "print(f'No. of events after the MET cut :  {len(events[events.MET.pt > 20])}')"
   ]
  },
  {
   "cell_type": "markdown",
   "id": "de41dd66",
   "metadata": {},
   "source": [
    "#### `len()` vs `ak.num()`\n",
    "`len()` is a general Python function that returns the number of *only the top-level elements* in an object that supports the concept of length. That's why `len(events.electron)` returns the length of events, instead of electrons in events. In such cases, `ak.num()` is used. For example,"
   ]
  },
  {
   "cell_type": "code",
   "execution_count": 15,
   "id": "baa51cd9",
   "metadata": {},
   "outputs": [
    {
     "name": "stdout",
     "output_type": "stream",
     "text": [
      "No. of electrons in each event: \t    [0, 4, 2, 1, 4, 1, 1, 1, 4, 0, 2, 3, 4, ..., 1, 2, 5, 2, 1, 0, 3, 0, 1, 0, 2, 2]\n",
      "No. of electrons in each event with pT>30 : [0, 2, 0, 0, 1, 0, 0, 0, 2, 0, 0, 0, 1, ..., 0, 1, 1, 0, 1, 0, 2, 0, 0, 0, 0, 2]\n"
     ]
    }
   ],
   "source": [
    "print(f'No. of electrons in each event: \\t    {ak.num(events.electron)}')\n",
    "print(f'No. of electrons in each event with pT>30 : {ak.num(events.electron[events.electron.pt > 30])}')"
   ]
  },
  {
   "cell_type": "markdown",
   "id": "a6abfe4c",
   "metadata": {},
   "source": [
    "Here `ak.num()` returns a list. So, if you want to calculate the total number of electrons across all events that pass this pT cut, you can simply sum over the array in the horizontal axis.<br>\n",
    "\n",
    "Now, let's make a pT plot for this subset. I will overlay it with the original pT plot.<br>\n",
    "The list of electron pt (>30)  is basically a flattened version of `events.electrons[filter].pt`.<br>\n",
    "Note that **the filter is applied on electrons, and not on events**."
   ]
  },
  {
   "cell_type": "code",
   "execution_count": 16,
   "id": "e327b720",
   "metadata": {},
   "outputs": [
    {
     "data": {
      "image/png": "[encoded data removed]",
      "text/plain": [
       "<Figure size 400x300 with 1 Axes>"
      ]
     },
     "metadata": {},
     "output_type": "display_data"
    }
   ],
   "source": [
    "elept_g30 = ak.flatten(events.electron[events.electron.pt > 30].pt)\n",
    "\n",
    "fig2, ax2 = plt.subplots(1,1,figsize=(4,3))\n",
    "ax2.hist(all_electron_pt, bins=50, histtype='step', linewidth=2, color='red', label='electron pT (all)')\n",
    "ax2.hist(elept_g30, bins=50, histtype='step', linewidth=2, color='blue', label='electron pT (>30)')\n",
    "ax2.set_xlabel('pT')\n",
    "ax2.set_ylabel('Counts')\n",
    "ax2.legend(loc='upper right')\n",
    "ax2.set_title('')\n",
    "plt.show()"
   ]
  },
  {
   "cell_type": "markdown",
   "id": "a40ad6f9",
   "metadata": {},
   "source": [
    "# Combinatorics\n",
    "\n",
    "How to combine two awkward arrays? \n",
    "\n",
    "**`ak.cartesian(array1, array2)`:** It computes the Cartesian product of two or more arrays. It takes multiple arrays as input and returns an array that contains all possible combinations of the elements from each input array. The resulting array has a dimensionality equal to the sum of the input array dimensions. For example, the cartesian combination of `[1, 2]` and `['a', 'b']` will be `[[(1, 'a'), (1, 'b')], [(2, 'a'), (2, 'b')]]`.\n",
    "\n",
    "<img src=\"images/cartoon-cartesian.svg\" alt=\"Cartesian\" style=\"width: 30%; max-width: 50%; height: auto;\">\n",
    "\n",
    "**`ak.combinations(array, num)`:** It computes combinations of elements from a single array. It takes an array and an integer value specifying the length of the combinations to be generated. It returns an array containing all unique combinations of the specified length. For example, the ak combination of the array `[[1, 2, 3]]` and the number `2` will be `[[(1, 2), (1, 3), (2, 3)]]`. It is a pair-wise (because num=2) combination of the elements of the array with themselves.\n",
    "\n",
    "<img src=\"images/cartoon-combinations.svg\" alt=\"Combinations\" style=\"width: 30%; max-width: 50%; height: auto;\">\n",
    "\n",
    "**Such combinations are important while pairing of objects in analysis.**\n",
    "For example, in a particular collision event, we can pair-up the different leptons in the final state to form all the possible Z candidates, and then pair-up all the Z candidates and ultimately form the Higgs candidates. From all the possible Higgs candidates, we can pick the most-likely one, based on our understanding of the underlying physics.\n",
    "\n",
    ">**Note:** Usually for $H\\rightarrow ZZ\\rightarrow 4l$, we pick the leading four leptons and try to reconstruct the Higgs. Statistically speaking, this method is right most of the time. But using combinatorics is a more 'precise' way of reconstructing the Higgs.)\n",
    "\n",
    "## Forming electron-muon pairs:\n",
    "Let's create a combination of electrons and muons from 'events'. It will create all possible pairs of electrons and muons in an event. For that, we need an event containing both muons and electrons. Event no.6 (`events[5]`) seems to be a good option, as it contains one electron(e+) and two muons (mu-, mu+). The following is the json-type display for the event."
   ]
  },
  {
   "cell_type": "code",
   "execution_count": 17,
   "id": "fd99ae84",
   "metadata": {},
   "outputs": [
    {
     "data": {
      "text/plain": [
       "{'run': 1,\n",
       " 'luminosityBlock': 156,\n",
       " 'event': 46506,\n",
       " 'PV': {'x': 0.24315853416919708,\n",
       "  'y': 0.3919053077697754,\n",
       "  'z': -4.6493706703186035},\n",
       " 'electron': [{'pt': 16.080764770507812,\n",
       "   'eta': 0.34038105607032776,\n",
       "   'phi': -0.497290700674057,\n",
       "   'mass': -0.001829288899898529,\n",
       "   'charge': 1,\n",
       "   'pfRelIso03_all': 0.0,\n",
       "   'dxy': 0.0026131304912269115,\n",
       "   'dxyErr': 0.0030888384208083153,\n",
       "   'dz': 0.0015549822710454464,\n",
       "   'dzErr': 0.0019853825215250254}],\n",
       " 'muon': [{'pt': 38.50375747680664,\n",
       "   'eta': 0.3149033784866333,\n",
       "   'phi': 2.0492658615112305,\n",
       "   'mass': 0.10565836727619171,\n",
       "   'charge': -1,\n",
       "   'pfRelIso03_all': 0.0,\n",
       "   'pfRelIso04_all': 0.0,\n",
       "   'dxy': -0.00014060208923183382,\n",
       "   'dxyErr': 0.0009837072575464845,\n",
       "   'dz': -0.001869329484179616,\n",
       "   'dzErr': 0.002944641513749957},\n",
       "  {'pt': 47.0022087097168,\n",
       "   'eta': -0.11872955411672592,\n",
       "   'phi': -1.1521836519241333,\n",
       "   'mass': 0.10565836727619171,\n",
       "   'charge': 1,\n",
       "   'pfRelIso03_all': 0.018465911969542503,\n",
       "   'pfRelIso04_all': 0.018465911969542503,\n",
       "   'dxy': -0.00024404973373748362,\n",
       "   'dxyErr': 0.0010479510528966784,\n",
       "   'dz': -0.0004884027293883264,\n",
       "   'dzErr': 0.002044178545475006}],\n",
       " 'MET': {'pt': 11.519886016845703, 'phi': -3.052330493927002}}"
      ]
     },
     "execution_count": 17,
     "metadata": {},
     "output_type": "execute_result"
    }
   ],
   "source": [
    "events[5].to_list()"
   ]
  },
  {
   "cell_type": "markdown",
   "id": "aff752c4",
   "metadata": {},
   "source": [
    "Now, let's pair-up all the electrons and muons in the events in all possible ways, and investigate the 6th event."
   ]
  },
  {
   "cell_type": "code",
   "execution_count": 18,
   "id": "f81a1f81",
   "metadata": {},
   "outputs": [
    {
     "data": {
      "text/plain": [
       "[({'pt': 16.080764770507812,\n",
       "   'eta': 0.34038105607032776,\n",
       "   'phi': -0.497290700674057,\n",
       "   'mass': -0.001829288899898529,\n",
       "   'charge': 1,\n",
       "   'pfRelIso03_all': 0.0,\n",
       "   'dxy': 0.0026131304912269115,\n",
       "   'dxyErr': 0.0030888384208083153,\n",
       "   'dz': 0.0015549822710454464,\n",
       "   'dzErr': 0.0019853825215250254},\n",
       "  {'pt': 38.50375747680664,\n",
       "   'eta': 0.3149033784866333,\n",
       "   'phi': 2.0492658615112305,\n",
       "   'mass': 0.10565836727619171,\n",
       "   'charge': -1,\n",
       "   'pfRelIso03_all': 0.0,\n",
       "   'pfRelIso04_all': 0.0,\n",
       "   'dxy': -0.00014060208923183382,\n",
       "   'dxyErr': 0.0009837072575464845,\n",
       "   'dz': -0.001869329484179616,\n",
       "   'dzErr': 0.002944641513749957}),\n",
       " ({'pt': 16.080764770507812,\n",
       "   'eta': 0.34038105607032776,\n",
       "   'phi': -0.497290700674057,\n",
       "   'mass': -0.001829288899898529,\n",
       "   'charge': 1,\n",
       "   'pfRelIso03_all': 0.0,\n",
       "   'dxy': 0.0026131304912269115,\n",
       "   'dxyErr': 0.0030888384208083153,\n",
       "   'dz': 0.0015549822710454464,\n",
       "   'dzErr': 0.0019853825215250254},\n",
       "  {'pt': 47.0022087097168,\n",
       "   'eta': -0.11872955411672592,\n",
       "   'phi': -1.1521836519241333,\n",
       "   'mass': 0.10565836727619171,\n",
       "   'charge': 1,\n",
       "   'pfRelIso03_all': 0.018465911969542503,\n",
       "   'pfRelIso04_all': 0.018465911969542503,\n",
       "   'dxy': -0.00024404973373748362,\n",
       "   'dxyErr': 0.0010479510528966784,\n",
       "   'dz': -0.0004884027293883264,\n",
       "   'dzErr': 0.002044178545475006})]"
      ]
     },
     "execution_count": 18,
     "metadata": {},
     "output_type": "execute_result"
    }
   ],
   "source": [
    "electron_muon_pairs = ak.cartesian([events.electron, events.muon])\n",
    "electron_muon_pairs[5].to_list()"
   ]
  },
  {
   "cell_type": "markdown",
   "id": "675dcc7b",
   "metadata": {},
   "source": [
    "**This list is of the type: `[(e+, mu-), (e+, mu+)]`, which is exactly what we expect!**<br>\n",
    "(Here e+, mu+ and mu_ represent the dictionaries for the corresponding particles.)<br>\n",
    "\n",
    "Now, let's split up the electrons and the muons from each pair using `unzip`."
   ]
  },
  {
   "cell_type": "code",
   "execution_count": 19,
   "id": "fa86fd56",
   "metadata": {},
   "outputs": [
    {
     "data": {
      "text/plain": [
       "[{'pt': 16.080764770507812,\n",
       "  'eta': 0.34038105607032776,\n",
       "  'phi': -0.497290700674057,\n",
       "  'mass': -0.001829288899898529,\n",
       "  'charge': 1,\n",
       "  'pfRelIso03_all': 0.0,\n",
       "  'dxy': 0.0026131304912269115,\n",
       "  'dxyErr': 0.0030888384208083153,\n",
       "  'dz': 0.0015549822710454464,\n",
       "  'dzErr': 0.0019853825215250254},\n",
       " {'pt': 16.080764770507812,\n",
       "  'eta': 0.34038105607032776,\n",
       "  'phi': -0.497290700674057,\n",
       "  'mass': -0.001829288899898529,\n",
       "  'charge': 1,\n",
       "  'pfRelIso03_all': 0.0,\n",
       "  'dxy': 0.0026131304912269115,\n",
       "  'dxyErr': 0.0030888384208083153,\n",
       "  'dz': 0.0015549822710454464,\n",
       "  'dzErr': 0.0019853825215250254}]"
      ]
     },
     "execution_count": 19,
     "metadata": {},
     "output_type": "execute_result"
    }
   ],
   "source": [
    "electron_in_pair, muon_in_pair = ak.unzip(electron_muon_pairs)\n",
    "electron_in_pair[5].to_list()"
   ]
  },
  {
   "cell_type": "markdown",
   "id": "65d9db1a",
   "metadata": {},
   "source": [
    "We can see that, in case of the 6th event, there are two possible pairs between electrons and muons, and it is the same electron that goes into this pair. That's why the same electron is repeated in the above list. "
   ]
  },
  {
   "cell_type": "markdown",
   "id": "2f551cd4",
   "metadata": {},
   "source": [
    "## Electron-Electron pairs (dielectron mass)\n",
    "\n",
    "Since the example we are working with is a $H\\rightarrow ZZ\\rightarrow 4l$ sample, let's try to form the Z peak from the electrons. For this, let's pick a different event with lots of electrons, so that we have many Z candidates. The second event (`events[1]`) is a good option, as it contains 4 electrons (e+, e+, e-, e-). This is an interesting one, because we may have cross-pairing of electrons which are coming from different Zs. In this case, we are paiting electrons w\\ith itself. Therefore, we will use `ak.combinations`."
   ]
  },
  {
   "cell_type": "code",
   "execution_count": 20,
   "id": "1f2c6992",
   "metadata": {},
   "outputs": [
    {
     "name": "stdout",
     "output_type": "stream",
     "text": [
      "299973 * var * Momentum4D[\n",
      "    pt: float32,\n",
      "    eta: float32,\n",
      "    phi: float32,\n",
      "    mass: float32,\n",
      "    charge: int32,\n",
      "    pfRelIso03_all: float32,\n",
      "    dxy: float32,\n",
      "    dxyErr: float32,\n",
      "    dz: float32,\n",
      "    dzErr: float32\n",
      "]\n"
     ]
    }
   ],
   "source": [
    "dielectrons = ak.combinations(events.electron, 2)\n",
    "first_electron, second_electron = ak.unzip(dielectrons)\n",
    "first_electron.type.show()"
   ]
  },
  {
   "cell_type": "markdown",
   "id": "d1b3bb4c",
   "metadata": {},
   "source": [
    "From the electron collection `[e+, e+, e-, e-]`, we have the following combinations:<br>\n",
    "```\n",
    "[(e+, e+), (e+, e-), (e+, e-),\n",
    " (e+, e+), (e+, e-), (e+, e-),\n",
    " (e-, e+), (e-, e+), (e-, e-),\n",
    " (e-, e+), (e-, e+), (e-, e-)]\n",
    "```\n",
    "**Although there are 12 possible permutations, only 6 of those are unique!**<br>\n",
    "\n",
    "Notice the 'type' of `first_electron`! Let's do vector operations on these `Momentum4D` type objects using the `vector` module. It is specifically designed for HEP people, and has in-built functions like deltaR. After calling `register_awkward()`, all Awkward data structures named \"Momentum4D\" can compute px, py, pz, etc. from pt, phi, eta, etc. Let's plot the invariant mass and the dR between the two electrons from the pairs."
   ]
  },
  {
   "cell_type": "code",
   "execution_count": 21,
   "id": "9b5b07de",
   "metadata": {},
   "outputs": [],
   "source": [
    "inv_mass = ak.flatten((first_electron + second_electron).mass)\n",
    "dR_ele = ak.flatten(first_electron.deltaR(second_electron))"
   ]
  },
  {
   "cell_type": "markdown",
   "id": "3c2199ce",
   "metadata": {},
   "source": [
    "For the specific event containing 4 muons (`events[1]`), let's print out all the values of dimuon mass. Since there are 6 unique pairs, there should be 6 values of dielectron mass. Also, assuming that all 4 electrons are coming from the Higgs through ZZ, we expect two of those values to be consistent with the Z mass."
   ]
  },
  {
   "cell_type": "code",
   "execution_count": 22,
   "id": "c90dc05d",
   "metadata": {},
   "outputs": [
    {
     "name": "stdout",
     "output_type": "stream",
     "text": [
      "[52.1, 76.8, 22.8, 19.9, 39.1, 64.2]\n"
     ]
    }
   ],
   "source": [
    "print((first_electron + second_electron)[1].mass)"
   ]
  },
  {
   "cell_type": "markdown",
   "id": "c4a5438d",
   "metadata": {},
   "source": [
    "Out of these pairs, the second pair is closest to the Z mass, but it is still far away.<br>\n",
    "That's okay. Data is disappointing sometimes.\n",
    "\n",
    "<img src=\"images/cartoon-data.jpg\" alt=\"Data\" style=\"width: 30%; max-width: 50%; height: auto;\">\n",
    "\n",
    "You can't come to a meaningful conclusion by looking at only one event.<br>\n",
    "Therefore, let's plot the dimuon mass and dR for all the pairs (flattened, i.e, all events included). "
   ]
  },
  {
   "cell_type": "code",
   "execution_count": 23,
   "id": "33c25164",
   "metadata": {},
   "outputs": [
    {
     "data": {
      "image/png": "[encoded data removed]",
      "text/plain": [
       "<Figure size 800x400 with 2 Axes>"
      ]
     },
     "metadata": {},
     "output_type": "display_data"
    }
   ],
   "source": [
    "fig3, ax3 = plt.subplots(1,2,figsize=(8,4))\n",
    "fig3.tight_layout(pad=3.0)\n",
    "ax3 = ax3.flatten()\n",
    "\n",
    "ax3[0].hist(inv_mass, bins=500, histtype='step', linewidth=2, color='blue', label='')\n",
    "ax3[0].set_xlabel('diele mass (all pairs)')\n",
    "ax3[0].set_xlim(0, 150)\n",
    "ax3[0].set_ylabel('Counts')\n",
    "#ax3[0].legend(loc='upper right')\n",
    "ax3[0].set_title('')\n",
    "\n",
    "ax3[1].hist(dR_ele, bins=50, histtype='step', linewidth=2, color='blue', label='')\n",
    "ax3[1].set_xlabel('dR (all pairs)')\n",
    "ax3[1].set_ylabel('Counts')\n",
    "#ax3[1].legend(loc='upper right')\n",
    "ax3[1].set_title('')\n",
    "\n",
    "plt.show()"
   ]
  },
  {
   "cell_type": "markdown",
   "id": "afac8722",
   "metadata": {},
   "source": [
    "In the dimuon mass plots, it is clear that some of the electron pairs are consistent with the Z, while some of the pairs are uncorrelated. In the following section, I am demonstrating an exercise of picking the right pair of electrons to form the Z mass."
   ]
  },
  {
   "cell_type": "markdown",
   "id": "01e772a8",
   "metadata": {},
   "source": [
    "# Reconstructing the Z and Higgs candidates (properly)\n",
    "\n",
    "Typically in a $Z\\rightarrow ll$ sample, we pick the two leptons with the highest pT and combine them together to reconstruct the Z. We simply ignore the additional leptons. Similarly, for a $H\\rightarrow ZZ\\rightarrow eeee$ sample, we pick the 4 electrons with the highest pT. Most of the time that works. But this time, let's do some combinatorics and investigate every possible unique pairs. Let's pick events with atleast 4 electrons. Here is the strategy.\n",
    "\n",
    "- We need two pairs of electrons in each events. Hence two 'ak.combinations'\n",
    "- `ak.combination()` produces two lists of (e,e) combinations.\n",
    "- We need to form pairs of those pairs to reconstruct the Higgs. Hence, 'ak.cartesian' of those two lists.\n",
    "\n",
    "Since we expect the Higgs to decay to two e+ and two e-, this is how we form the pairs of pairs."
   ]
  },
  {
   "cell_type": "code",
   "execution_count": 24,
   "id": "34fa365d",
   "metadata": {},
   "outputs": [],
   "source": [
    "eplus = events.electron[events.electron.charge > 0]\n",
    "eminus = events.electron[events.electron.charge < 0]\n",
    "eplusplus = ak.combinations(eplus, 2)\n",
    "eminusminus = ak.combinations(eminus, 2)\n",
    "epairs_of_pairs = ak.cartesian([eplusplus, eminusminus])"
   ]
  },
  {
   "cell_type": "markdown",
   "id": "f2597505",
   "metadata": {},
   "source": [
    "`epairs_of_pairs` is a tuple of 4 electrons of the following format.\n",
    "```\n",
    "[(\n",
    "    (e+,    e+),\n",
    "    (e-,    e-)\n",
    ")]\n",
    "```\n",
    "The first two slots are always e+ and the last two slots are always e- (by design). Instead of using `ak.unzip`, we can look at each of the slots individually. Tuples are records with fields named `\"0\"`, `\"1\"` etc. So, we can assign charges as follows."
   ]
  },
  {
   "cell_type": "code",
   "execution_count": 25,
   "id": "3125b788",
   "metadata": {},
   "outputs": [],
   "source": [
    "assert ak.all(epairs_of_pairs[\"0\", \"0\"].charge == 1)\n",
    "assert ak.all(epairs_of_pairs[\"0\", \"1\"].charge == 1)\n",
    "assert ak.all(epairs_of_pairs[\"1\", \"0\"].charge == -1)\n",
    "assert ak.all(epairs_of_pairs[\"1\", \"1\"].charge == -1)"
   ]
  },
  {
   "cell_type": "markdown",
   "id": "7b5dd885",
   "metadata": {},
   "source": [
    "The nested pairs are not the decay products of the two individual Z bosons, since each pair contains same-sign electrons. Let's call the four electrons as 00, 01, 10 and 11. We have two Z bosons in the events. There are two possible ways to assign pairs of electrons to Z bosons (two interpretations):\n",
    "\n",
    "- **Intepretation 1:** $Z_1$ comes from 00 and 10 while $Z_2$ comes from 01 and 11.\n",
    "- **Intepretation 1:** $Z_2$ comes from 01 and 10 while $Z_2$ comes from 00 and 11.\n",
    "\n",
    "Now, let's do vector addition of electron pairs to form the Z candidates."
   ]
  },
  {
   "cell_type": "code",
   "execution_count": 26,
   "id": "e295b618",
   "metadata": {},
   "outputs": [],
   "source": [
    "interpretation1_z1 = epairs_of_pairs[\"0\", \"0\"] + epairs_of_pairs[\"1\", \"0\"]\n",
    "interpretation1_z2 = epairs_of_pairs[\"0\", \"1\"] + epairs_of_pairs[\"1\", \"1\"]\n",
    "\n",
    "interpretation2_z1 = epairs_of_pairs[\"0\", \"0\"] + epairs_of_pairs[\"1\", \"1\"]\n",
    "interpretation2_z2 = epairs_of_pairs[\"0\", \"1\"] + epairs_of_pairs[\"1\", \"0\"]"
   ]
  },
  {
   "cell_type": "markdown",
   "id": "37ad4b9c",
   "metadata": {},
   "source": [
    "Let's try to make some Z mass plots from these two interpretations.<br>\n",
    "We have two versions of the Z masses. They need to be flattened numpy arrays, so that hist2d works.\n",
    "\n",
    "### Z mass from two interpretations"
   ]
  },
  {
   "cell_type": "code",
   "execution_count": 27,
   "id": "5224012b",
   "metadata": {},
   "outputs": [],
   "source": [
    "interpretation1_mass1 = (ak.flatten(interpretation1_z1.mass)).to_numpy()\n",
    "interpretation1_mass2 = (ak.flatten(interpretation1_z2.mass)).to_numpy()\n",
    "\n",
    "interpretation2_mass1 = (ak.flatten(interpretation2_z1.mass)).to_numpy()\n",
    "interpretation2_mass2 = (ak.flatten(interpretation2_z2.mass)).to_numpy()"
   ]
  },
  {
   "cell_type": "code",
   "execution_count": 28,
   "id": "e495a647",
   "metadata": {},
   "outputs": [
    {
     "data": {
      "image/png": "[encoded data removed]",
      "text/plain": [
       "<Figure size 800x400 with 2 Axes>"
      ]
     },
     "metadata": {},
     "output_type": "display_data"
    }
   ],
   "source": [
    "fig4, ax4 = plt.subplots(1,2,figsize=(8,4))\n",
    "fig4.tight_layout(pad=3.0)\n",
    "ax4 = ax4.flatten()\n",
    "\n",
    "ax4[0].hist2d(interpretation1_mass1, interpretation1_mass2, bins=300, cmap='viridis')\n",
    "ax4[0].set_xlabel('Z1 mass')\n",
    "ax4[0].set_xlim(0, 150)\n",
    "ax4[0].set_ylabel('Z2 mass')\n",
    "ax4[0].set_ylim(0, 150)\n",
    "ax4[0].set_title('Interpretation 1')\n",
    "\n",
    "ax4[1].hist2d(interpretation2_mass1, interpretation2_mass2, bins=300, cmap='viridis')\n",
    "ax4[1].set_xlabel('Z1 mass')\n",
    "ax4[1].set_xlim(0, 150)\n",
    "ax4[1].set_ylabel('Z2 mass')\n",
    "ax4[1].set_ylim(0, 150)\n",
    "ax4[1].set_title('Interpretation 2')\n",
    "\n",
    "plt.show()"
   ]
  },
  {
   "cell_type": "markdown",
   "id": "57fca02b",
   "metadata": {},
   "source": [
    "Interesting! Both interpretations look kind of similar. Keep in mind that, in both of these plots, I am considering all possible combinations of all electrons in an event. That's why there are entries near the Z mass (corresponding to the right pairs), and there are entries corresponding to the wrong/crossed pairs. Now, the trick is, **how to pick the correct set of pairs?**\n",
    "\n",
    "In each interpretation, we can find the lowest and highest e⁺e⁻ pair mass. We can plot those for both interpretations."
   ]
  },
  {
   "cell_type": "code",
   "execution_count": 29,
   "id": "8e4a9388",
   "metadata": {},
   "outputs": [],
   "source": [
    "interpretation1_zsmall = ak.where(interpretation1_z1.mass < interpretation1_z2.mass, interpretation1_z1, interpretation1_z2)\n",
    "interpretation1_zbig   = ak.where(interpretation1_z1.mass > interpretation1_z2.mass, interpretation1_z1, interpretation1_z2)\n",
    "\n",
    "interpretation2_zsmall = ak.where(interpretation2_z1.mass < interpretation2_z2.mass, interpretation2_z1, interpretation2_z2)\n",
    "interpretation2_zbig   = ak.where(interpretation2_z1.mass > interpretation2_z2.mass, interpretation2_z1, interpretation2_z2)\n",
    "\n",
    "i1_zmass_small=(ak.flatten(interpretation1_zsmall.mass).to_numpy())\n",
    "i1_zmass_big  =(ak.flatten(interpretation1_zbig.mass).to_numpy())\n",
    "                \n",
    "i2_zmass_small=(ak.flatten(interpretation2_zsmall.mass).to_numpy())\n",
    "i2_zmass_big  =(ak.flatten(interpretation2_zbig.mass).to_numpy())"
   ]
  },
  {
   "cell_type": "code",
   "execution_count": 30,
   "id": "538d1bb1",
   "metadata": {},
   "outputs": [
    {
     "data": {
      "image/png": "[encoded data removed]",
      "text/plain": [
       "<Figure size 800x400 with 2 Axes>"
      ]
     },
     "metadata": {},
     "output_type": "display_data"
    }
   ],
   "source": [
    "fig5, ax5 = plt.subplots(1,2,figsize=(8,4))\n",
    "fig5.tight_layout(pad=3.0)\n",
    "ax5 = ax5.flatten()\n",
    "\n",
    "ax5[0].hist2d(i1_zmass_small, i1_zmass_big, bins=300, cmap='viridis')\n",
    "ax5[0].set_xlabel('Z mass small')\n",
    "ax5[0].set_xlim(0, 100)\n",
    "ax5[0].set_ylabel('Z mass big')\n",
    "ax5[0].set_ylim(0, 150)\n",
    "ax5[0].set_title('Interpretation 1')\n",
    "\n",
    "ax5[1].hist2d(i2_zmass_small, i2_zmass_big, bins=300, cmap='viridis')\n",
    "ax5[1].set_xlabel('Z mass small')\n",
    "ax5[1].set_xlim(0, 100)\n",
    "ax5[1].set_ylabel('Z mass big')\n",
    "ax5[1].set_ylim(0, 150)\n",
    "ax5[1].set_title('Interpretation 2')\n",
    "\n",
    "plt.show()"
   ]
  },
  {
   "cell_type": "markdown",
   "id": "180c3595",
   "metadata": {},
   "source": [
    "**If one interpretation has a highest e⁺e⁻ pair mass close to the on-shell Z mass and the other doesn't, then it is the most likely interpretation.** Just as we used `ak.where` to select between pair masses to find the lowest and highest per interpretation, we can select between interpretations on a candidate-by-candidate basis."
   ]
  },
  {
   "cell_type": "code",
   "execution_count": 31,
   "id": "53247684",
   "metadata": {},
   "outputs": [],
   "source": [
    "interpretation1_is_best = interpretation1_zbig.mass > interpretation2_zbig.mass\n",
    "\n",
    "best_interpretation_zbig = ak.where(interpretation1_is_best, interpretation1_zbig, interpretation2_zbig)\n",
    "best_interpretation_zsmall = ak.where(interpretation1_is_best, interpretation1_zsmall, interpretation2_zsmall)\n",
    "\n",
    "best_Zmass_small = (ak.flatten(best_interpretation_zsmall.mass)).to_numpy()\n",
    "best_Zmass_big   = (ak.flatten(best_interpretation_zbig.mass)).to_numpy()"
   ]
  },
  {
   "cell_type": "code",
   "execution_count": 32,
   "id": "ba2cf73a",
   "metadata": {},
   "outputs": [
    {
     "data": {
      "image/png": "[encoded data removed]",
      "text/plain": [
       "<Figure size 400x400 with 1 Axes>"
      ]
     },
     "metadata": {},
     "output_type": "display_data"
    }
   ],
   "source": [
    "fig6, ax6 = plt.subplots(1,1,figsize=(4,4))\n",
    "\n",
    "ax6.hist2d(best_Zmass_small, best_Zmass_big, bins=300, cmap='viridis')\n",
    "ax6.set_xlabel('Z mass small')\n",
    "ax6.set_xlim(0, 100)\n",
    "ax6.set_ylabel('Z mass big')\n",
    "ax6.set_ylim(0, 150)\n",
    "ax6.set_title('Best Interpretation')\n",
    "\n",
    "plt.show()"
   ]
  },
  {
   "cell_type": "markdown",
   "id": "c43ac83f",
   "metadata": {},
   "source": [
    "### Debug:\n",
    "Since the above method used \"biggest mass\" instead of \"closest to on-shell Z mass,\" it biases Z candidates to the high end of the Z boson mass distribution. However, it could be reimplemented using the `particle` package by doing the following.\n",
    "\n",
    "```\n",
    "from hepunits import GeV\n",
    "from particle import Particle\n",
    "\n",
    "z_onshell = Particle.from_name(\"Z0\").mass / GeV\n",
    "\n",
    "abs(interpretation1_z1.mass - z_onshell) < abs(interpretation1_z2.mass - z_onshell)\n",
    "```\n",
    "\n",
    "The last line should replace the boolean `interpretation1_z1.mass < interpretation1_z2.mass` in the previous method."
   ]
  },
  {
   "cell_type": "code",
   "execution_count": null,
   "id": "bc10f93a",
   "metadata": {},
   "outputs": [],
   "source": []
  }
 ],
 "metadata": {
  "kernelspec": {
   "display_name": "Python 3 (ipykernel)",
   "language": "python",
   "name": "python3"
  },
  "language_info": {
   "codemirror_mode": {
    "name": "ipython",
    "version": 3
   },
   "file_extension": ".py",
   "mimetype": "text/x-python",
   "name": "python",
   "nbconvert_exporter": "python",
   "pygments_lexer": "ipython3",
   "version": "3.10.11"
  }
 },
 "nbformat": 4,
 "nbformat_minor": 5
}
